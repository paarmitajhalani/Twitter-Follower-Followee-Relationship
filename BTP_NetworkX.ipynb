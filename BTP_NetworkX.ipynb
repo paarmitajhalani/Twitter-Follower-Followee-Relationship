{
 "cells": [
  {
   "cell_type": "code",
   "execution_count": 235,
   "metadata": {},
   "outputs": [],
   "source": [
    "import networkx as nx  \n",
    "import matplotlib.pyplot as plt  "
   ]
  },
  {
   "cell_type": "code",
   "execution_count": 236,
   "metadata": {},
   "outputs": [],
   "source": [
    "g = nx.Graph() "
   ]
  },
  {
   "cell_type": "code",
   "execution_count": 237,
   "metadata": {},
   "outputs": [],
   "source": [
    "g.add_node(2, name='Patrisse Khan-Cullors', age='37',gender='female',race='black',\n",
    "           hometown='LA',education='University of California, LA',lgbtq='queer',religion='ifa',\n",
    "           political_affiliation='-',organisation='Black Lives Matter')\n",
    "\n",
    "g.add_node(3, name='Charlene Carruthers', age='36',gender='female',race='black',\n",
    "           hometown='Chicago',education='Illinois Wesleyan University',lgbtq='queer',religion='-',\n",
    "           political_affiliation='-',organisation='Black Youth Project 100')\n",
    "\n",
    "g.add_node(4, name='Alicia Garza', age='40',gender='female',race='black',\n",
    "           hometown='LA',education='University of California, San Diego',lgbtq='queer',religion='jewish',\n",
    "           political_affiliation='Democratic',organisation='Black Lives Matter')\n",
    "\n",
    "g.add_node(5, name='Opal Tometi', age='37',gender='female',race='black',\n",
    "           hometown='Phoenix',education='University of Arizona',lgbtq='queer',religion='-',\n",
    "           political_affiliation='-',organisation='Black Lives Matter')\n",
    "\n",
    "g.add_node(6, name='Jamilah Lemieux', age='36',gender='female',race='black',\n",
    "           hometown='Chicago',education='Howard University',lgbtq='-',religion='non-religious',\n",
    "           political_affiliation='-',organisation='-')\n",
    "\n",
    "g.add_node(7, name='Brittney Cooper', age='40',gender='female',race='black',\n",
    "           hometown='Ruston',education='Howard University',lgbtq='-',religion='christian',\n",
    "           political_affiliation='-',organisation='the Crunk Feminist Collective')\n",
    "\n",
    "g.add_node(8, name='Johnetta Elzie', age='31',gender='female',race='black',\n",
    "           hometown='St Louis',education='Southeast Missouri State University',lgbtq='queer',religion='non-religious',\n",
    "           political_affiliation='-',organisation='We The Protesters')\n",
    "\n",
    "g.add_node(9, name='Ashley Yates', age='35',gender='female',race='black',\n",
    "           hometown='St Louis',education='University of Missouri',lgbtq='queer',religion='-',\n",
    "           political_affiliation='-',organisation='Millennial Activists United')\n",
    "\n",
    "g.add_node(10, name='Al Sharpton', age='66',gender='male',race='black',\n",
    "           hometown='New York',education='Brooklyn College',lgbtq='-',religion='christian',\n",
    "           political_affiliation='Democratic',organisation='National Action Network')"
   ]
  },
  {
   "cell_type": "code",
   "execution_count": 238,
   "metadata": {},
   "outputs": [
    {
     "name": "stdout",
     "output_type": "stream",
     "text": [
      "[370, 360, 400, 370, 360, 400, 310, 350, 660]\n"
     ]
    }
   ],
   "source": [
    "node_sizes = []\n",
    "\n",
    "for n in g.nodes:\n",
    "    #print(n)\n",
    "    #print(g.nodes[n]['age'])\n",
    "    node_sizes.append( 10* int(g.nodes[n]['age']) )\n",
    "# node_sizes.append(0)\n",
    "# node_sizes.append(0)\n",
    "# node_sizes.append(0)\n",
    "\n",
    "\n",
    "print(node_sizes)"
   ]
  },
  {
   "cell_type": "code",
   "execution_count": 239,
   "metadata": {},
   "outputs": [
    {
     "data": {
      "image/png": "[encoded data removed]",
      "text/plain": [
       "<Figure size 432x288 with 1 Axes>"
      ]
     },
     "metadata": {},
     "output_type": "display_data"
    }
   ],
   "source": [
    "#If Linked with Organisation\n",
    "#color\n",
    "#cyan=linked\n",
    "#blue=unlinked\n",
    "color_map_org=['cyan', 'cyan','cyan','cyan','blue','cyan','cyan','cyan','cyan']\n",
    "nx.draw(g, node_size=node_sizes,node_color=color_map_org, with_labels=True)    \n",
    "\n"
   ]
  },
  {
   "cell_type": "code",
   "execution_count": 240,
   "metadata": {},
   "outputs": [
    {
     "data": {
      "image/png": "[encoded data removed]",
      "text/plain": [
       "<Figure size 432x288 with 1 Axes>"
      ]
     },
     "metadata": {},
     "output_type": "display_data"
    }
   ],
   "source": [
    "#Race\n",
    "#color\n",
    "#black=black\n",
    "#yellow=other\n",
    "color_map_race=['black','black','black','black','black','black','black','black','black']\n",
    "nx.draw(g, node_size=node_sizes,node_color=color_map_race, with_labels=True)"
   ]
  },
  {
   "cell_type": "code",
   "execution_count": 241,
   "metadata": {},
   "outputs": [],
   "source": [
    "#Linked via Organisation\n",
    "#female->yellow\n",
    "#male->red\n",
    "g.add_edge(2, 4) \n",
    "g.add_edge(2, 5) \n",
    "g.add_edge(4, 5)"
   ]
  },
  {
   "cell_type": "code",
   "execution_count": 242,
   "metadata": {},
   "outputs": [
    {
     "data": {
      "image/png": "[encoded data removed]",
      "text/plain": [
       "<Figure size 432x288 with 1 Axes>"
      ]
     },
     "metadata": {},
     "output_type": "display_data"
    }
   ],
   "source": [
    "nx.draw(g,node_size=node_sizes, with_labels=True)"
   ]
  },
  {
   "cell_type": "code",
   "execution_count": 243,
   "metadata": {},
   "outputs": [
    {
     "name": "stdout",
     "output_type": "stream",
     "text": [
      "['yellow', 'yellow', 'yellow', 'yellow', 'yellow', 'yellow', 'yellow', 'yellow', 'red']\n"
     ]
    }
   ],
   "source": [
    "\n",
    "color_map = []\n",
    "for node in g:\n",
    "    if int(node) < 10:\n",
    "        color_map.append('yellow')\n",
    "    else: \n",
    "        color_map.append('red') \n",
    "# color_map.append('red')\n",
    "# color_map.append('red')\n",
    "# color_map.append('red')\n",
    "\n",
    "print (color_map)"
   ]
  },
  {
   "cell_type": "code",
   "execution_count": 244,
   "metadata": {},
   "outputs": [
    {
     "data": {
      "image/png": "[encoded data removed]",
      "text/plain": [
       "<Figure size 432x288 with 1 Axes>"
      ]
     },
     "metadata": {},
     "output_type": "display_data"
    }
   ],
   "source": [
    " \n",
    "\n",
    "nx.draw(g, node_size=node_sizes,node_color=color_map, with_labels=True)    \n",
    "plt.show()\n",
    "# g.add_edge(3, 4) \n",
    "# g.add_edge(1, 4) \n",
    "# g.add_edge(1, 5) "
   ]
  },
  {
   "cell_type": "code",
   "execution_count": 245,
   "metadata": {},
   "outputs": [],
   "source": [
    "# plt.show(block=False)\n",
    "# plt.savefig(\"/Users/karishma/Desktop/sem6/BTP/BLM_organisation.jpg\", format=\"JPG\")\n",
    "# #plt.savefig(\"/Users/karishma/Desktop/sem6/BTP/BLM_organisation.jpg\")"
   ]
  },
  {
   "cell_type": "code",
   "execution_count": 246,
   "metadata": {},
   "outputs": [],
   "source": [
    "g.remove_edge(2,4)\n",
    "g.remove_edge(2,5)\n",
    "g.remove_edge(4,5)\n",
    "\n",
    "\n"
   ]
  },
  {
   "cell_type": "code",
   "execution_count": 247,
   "metadata": {},
   "outputs": [],
   "source": [
    "#Linked via Political Affiliation\n",
    "#colour\n",
    "#green= no political affiliation\n",
    "#blue= democrat affiliation\n",
    "#red= republican affiliation\n",
    "\n",
    "g.add_edge(4, 10) \n",
    "# g.add_edge(3, 4) \n",
    "# g.add_edge(4, 5) \n",
    "# g.add_edge(5, 6) \n",
    "# g.add_edge(6, 7)\n",
    "# g.add_edge(7, 8)\n",
    "# g.add_edge(8, 9)\n",
    "# g.add_edge(9, 10)\n",
    "\n",
    "\n",
    "\n",
    "color_map_pol=['green','green','blue','green','green','green','green','green','blue']"
   ]
  },
  {
   "cell_type": "code",
   "execution_count": 248,
   "metadata": {},
   "outputs": [
    {
     "data": {
      "image/png": "[encoded data removed]",
      "text/plain": [
       "<Figure size 432x288 with 1 Axes>"
      ]
     },
     "metadata": {},
     "output_type": "display_data"
    }
   ],
   "source": [
    "nx.draw(g,node_color=color_map_pol,node_size=node_sizes,with_labels=True)"
   ]
  },
  {
   "cell_type": "code",
   "execution_count": 249,
   "metadata": {},
   "outputs": [],
   "source": [
    "g.remove_edge(4,10)"
   ]
  },
  {
   "cell_type": "code",
   "execution_count": 250,
   "metadata": {},
   "outputs": [],
   "source": [
    "#Linked via Queer Community\n",
    "g.add_edge(2, 3)\n",
    "g.add_edge(4, 5)\n",
    "g.add_edge(8, 9)\n",
    "g.add_edge(2, 4)\n",
    "g.add_edge(2, 5)\n",
    "g.add_edge(2, 8)\n",
    "g.add_edge(2, 9)\n",
    "g.add_edge(3, 4)\n",
    "g.add_edge(3, 5)\n",
    "g.add_edge(3, 8)\n",
    "g.add_edge(3, 9)\n",
    "g.add_edge(4, 8)\n",
    "g.add_edge(4, 9)\n",
    "g.add_edge(5, 8)\n",
    "g.add_edge(5, 9)\n"
   ]
  },
  {
   "cell_type": "code",
   "execution_count": 251,
   "metadata": {},
   "outputs": [
    {
     "data": {
      "image/png": "[encoded data removed]",
      "text/plain": [
       "<Figure size 432x288 with 1 Axes>"
      ]
     },
     "metadata": {},
     "output_type": "display_data"
    }
   ],
   "source": [
    "nx.draw(g,node_color=color_map,node_size=node_sizes, with_labels=True)"
   ]
  },
  {
   "cell_type": "code",
   "execution_count": null,
   "metadata": {},
   "outputs": [],
   "source": []
  }
 ],
 "metadata": {
  "kernelspec": {
   "display_name": "Python 3",
   "language": "python",
   "name": "python3"
  },
  "language_info": {
   "codemirror_mode": {
    "name": "ipython",
    "version": 3
   },
   "file_extension": ".py",
   "mimetype": "text/x-python",
   "name": "python",
   "nbconvert_exporter": "python",
   "pygments_lexer": "ipython3",
   "version": "3.8.5"
  }
 },
 "nbformat": 4,
 "nbformat_minor": 4
}
